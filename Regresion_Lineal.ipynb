{
  "nbformat": 4,
  "nbformat_minor": 0,
  "metadata": {
    "kernelspec": {
      "display_name": "Python 3",
      "language": "python",
      "name": "python3"
    },
    "language_info": {
      "codemirror_mode": {
        "name": "ipython",
        "version": 3
      },
      "file_extension": ".py",
      "mimetype": "text/x-python",
      "name": "python",
      "nbconvert_exporter": "python",
      "pygments_lexer": "ipython3",
      "version": "3.6.5"
    },
    "colab": {
      "name": "Ejercicio_Regresion_Lineal.ipynb",
      "provenance": [],
      "collapsed_sections": [],
      "toc_visible": true
    }
  },
  "cells": [
    {
      "cell_type": "markdown",
      "metadata": {
        "id": "Iir7fmpo_6ov"
      },
      "source": [
        "# Ejercicio de Regresión Lineal"
      ]
    },
    {
      "cell_type": "markdown",
      "metadata": {
        "ExecuteTime": {
          "end_time": "2018-05-05T08:19:33.323030Z",
          "start_time": "2018-05-05T08:19:33.308960Z"
        },
        "id": "DUs8S7v4_6ov"
      },
      "source": [
        "En este notebook intentaremos predecir el monto de una transacción con Machine Learning segun algunas de sus características."
      ]
    },
    {
      "cell_type": "markdown",
      "metadata": {
        "id": "PviW80Jr_6ow"
      },
      "source": [
        "## Predicción: ¿Cuánto será el valor estimado de una transacción?"
      ]
    },
    {
      "cell_type": "markdown",
      "metadata": {
        "id": "1oY6YxiY_6ox"
      },
      "source": [
        "Vamos a comenzar por Importar y Visualizar los datos"
      ]
    },
    {
      "cell_type": "code",
      "metadata": {
        "ExecuteTime": {
          "end_time": "2018-05-06T15:28:50.037886Z",
          "start_time": "2018-05-06T15:28:50.028212Z"
        },
        "id": "J63iB6qt_6ox",
        "colab": {
          "base_uri": "https://localhost:8080/",
          "height": 72
        },
        "outputId": "6810eb4b-a28a-4d09-9e78-1dbd5f9fcbc5"
      },
      "source": [
        "# Imports necesarios\n",
        "import numpy as np\n",
        "import pandas as pd\n",
        "import seaborn as sb\n",
        "import matplotlib.pyplot as plt\n",
        "%matplotlib inline\n",
        "from mpl_toolkits.mplot3d import Axes3D\n",
        "from matplotlib import cm\n",
        "plt.rcParams['figure.figsize'] = (16, 9)\n",
        "plt.style.use('ggplot')\n",
        "from sklearn import linear_model\n",
        "from sklearn.metrics import mean_squared_error, r2_score"
      ],
      "execution_count": null,
      "outputs": [
        {
          "output_type": "stream",
          "text": [
            "/usr/local/lib/python3.6/dist-packages/statsmodels/tools/_testing.py:19: FutureWarning: pandas.util.testing is deprecated. Use the functions in the public API at pandas.testing instead.\n",
            "  import pandas.util.testing as tm\n"
          ],
          "name": "stderr"
        }
      ]
    },
    {
      "cell_type": "code",
      "metadata": {
        "ExecuteTime": {
          "end_time": "2018-05-06T15:28:50.051323Z",
          "start_time": "2018-05-06T15:28:50.040878Z"
        },
        "id": "kRWuunat_6o1"
      },
      "source": [
        "#cargamos los datos de entrada\n",
        "data = pd.read_csv(\"./fraudTrain.csv\")"
      ],
      "execution_count": null,
      "outputs": []
    },
    {
      "cell_type": "code",
      "metadata": {
        "ExecuteTime": {
          "end_time": "2018-05-06T15:28:50.064402Z",
          "start_time": "2018-05-06T15:28:50.055301Z"
        },
        "id": "x0cKOTMt_6o4",
        "colab": {
          "base_uri": "https://localhost:8080/",
          "height": 35
        },
        "outputId": "613857fe-ded7-442a-bc93-14722e4d53c8"
      },
      "source": [
        "#veamos cuantas dimensiones y registros contiene\n",
        "data.shape"
      ],
      "execution_count": null,
      "outputs": [
        {
          "output_type": "execute_result",
          "data": {
            "text/plain": [
              "(1296675, 23)"
            ]
          },
          "metadata": {
            "tags": []
          },
          "execution_count": 3
        }
      ]
    },
    {
      "cell_type": "code",
      "metadata": {
        "ExecuteTime": {
          "end_time": "2018-05-06T15:28:50.093837Z",
          "start_time": "2018-05-06T15:28:50.068610Z"
        },
        "id": "YbbdlxNx_6o7",
        "colab": {
          "base_uri": "https://localhost:8080/",
          "height": 517
        },
        "outputId": "eed4a872-849a-46bf-cadf-a08df0f360e3"
      },
      "source": [
        "#son 1,296,675 registros con 23 columnas. Veamos los primeros registros para tener una idea\n",
        "data.head()"
      ],
      "execution_count": null,
      "outputs": [
        {
          "output_type": "execute_result",
          "data": {
            "text/html": [
              "<div>\n",
              "<style scoped>\n",
              "    .dataframe tbody tr th:only-of-type {\n",
              "        vertical-align: middle;\n",
              "    }\n",
              "\n",
              "    .dataframe tbody tr th {\n",
              "        vertical-align: top;\n",
              "    }\n",
              "\n",
              "    .dataframe thead th {\n",
              "        text-align: right;\n",
              "    }\n",
              "</style>\n",
              "<table border=\"1\" class=\"dataframe\">\n",
              "  <thead>\n",
              "    <tr style=\"text-align: right;\">\n",
              "      <th></th>\n",
              "      <th>Unnamed: 0</th>\n",
              "      <th>trans_date_trans_time</th>\n",
              "      <th>cc_num</th>\n",
              "      <th>merchant</th>\n",
              "      <th>category</th>\n",
              "      <th>amt</th>\n",
              "      <th>first</th>\n",
              "      <th>last</th>\n",
              "      <th>gender</th>\n",
              "      <th>street</th>\n",
              "      <th>city</th>\n",
              "      <th>state</th>\n",
              "      <th>zip</th>\n",
              "      <th>lat</th>\n",
              "      <th>long</th>\n",
              "      <th>city_pop</th>\n",
              "      <th>job</th>\n",
              "      <th>dob</th>\n",
              "      <th>trans_num</th>\n",
              "      <th>unix_time</th>\n",
              "      <th>merch_lat</th>\n",
              "      <th>merch_long</th>\n",
              "      <th>is_fraud</th>\n",
              "    </tr>\n",
              "  </thead>\n",
              "  <tbody>\n",
              "    <tr>\n",
              "      <th>0</th>\n",
              "      <td>0</td>\n",
              "      <td>2019-01-01 00:00:18</td>\n",
              "      <td>2703186189652095</td>\n",
              "      <td>fraud_Rippin, Kub and Mann</td>\n",
              "      <td>misc_net</td>\n",
              "      <td>4.97</td>\n",
              "      <td>Jennifer</td>\n",
              "      <td>Banks</td>\n",
              "      <td>F</td>\n",
              "      <td>561 Perry Cove</td>\n",
              "      <td>Moravian Falls</td>\n",
              "      <td>NC</td>\n",
              "      <td>28654</td>\n",
              "      <td>36.0788</td>\n",
              "      <td>-81.1781</td>\n",
              "      <td>3495</td>\n",
              "      <td>Psychologist, counselling</td>\n",
              "      <td>1988-03-09</td>\n",
              "      <td>0b242abb623afc578575680df30655b9</td>\n",
              "      <td>1325376018</td>\n",
              "      <td>36.011293</td>\n",
              "      <td>-82.048315</td>\n",
              "      <td>0</td>\n",
              "    </tr>\n",
              "    <tr>\n",
              "      <th>1</th>\n",
              "      <td>1</td>\n",
              "      <td>2019-01-01 00:00:44</td>\n",
              "      <td>630423337322</td>\n",
              "      <td>fraud_Heller, Gutmann and Zieme</td>\n",
              "      <td>grocery_pos</td>\n",
              "      <td>107.23</td>\n",
              "      <td>Stephanie</td>\n",
              "      <td>Gill</td>\n",
              "      <td>F</td>\n",
              "      <td>43039 Riley Greens Suite 393</td>\n",
              "      <td>Orient</td>\n",
              "      <td>WA</td>\n",
              "      <td>99160</td>\n",
              "      <td>48.8878</td>\n",
              "      <td>-118.2105</td>\n",
              "      <td>149</td>\n",
              "      <td>Special educational needs teacher</td>\n",
              "      <td>1978-06-21</td>\n",
              "      <td>1f76529f8574734946361c461b024d99</td>\n",
              "      <td>1325376044</td>\n",
              "      <td>49.159047</td>\n",
              "      <td>-118.186462</td>\n",
              "      <td>0</td>\n",
              "    </tr>\n",
              "    <tr>\n",
              "      <th>2</th>\n",
              "      <td>2</td>\n",
              "      <td>2019-01-01 00:00:51</td>\n",
              "      <td>38859492057661</td>\n",
              "      <td>fraud_Lind-Buckridge</td>\n",
              "      <td>entertainment</td>\n",
              "      <td>220.11</td>\n",
              "      <td>Edward</td>\n",
              "      <td>Sanchez</td>\n",
              "      <td>M</td>\n",
              "      <td>594 White Dale Suite 530</td>\n",
              "      <td>Malad City</td>\n",
              "      <td>ID</td>\n",
              "      <td>83252</td>\n",
              "      <td>42.1808</td>\n",
              "      <td>-112.2620</td>\n",
              "      <td>4154</td>\n",
              "      <td>Nature conservation officer</td>\n",
              "      <td>1962-01-19</td>\n",
              "      <td>a1a22d70485983eac12b5b88dad1cf95</td>\n",
              "      <td>1325376051</td>\n",
              "      <td>43.150704</td>\n",
              "      <td>-112.154481</td>\n",
              "      <td>0</td>\n",
              "    </tr>\n",
              "    <tr>\n",
              "      <th>3</th>\n",
              "      <td>3</td>\n",
              "      <td>2019-01-01 00:01:16</td>\n",
              "      <td>3534093764340240</td>\n",
              "      <td>fraud_Kutch, Hermiston and Farrell</td>\n",
              "      <td>gas_transport</td>\n",
              "      <td>45.00</td>\n",
              "      <td>Jeremy</td>\n",
              "      <td>White</td>\n",
              "      <td>M</td>\n",
              "      <td>9443 Cynthia Court Apt. 038</td>\n",
              "      <td>Boulder</td>\n",
              "      <td>MT</td>\n",
              "      <td>59632</td>\n",
              "      <td>46.2306</td>\n",
              "      <td>-112.1138</td>\n",
              "      <td>1939</td>\n",
              "      <td>Patent attorney</td>\n",
              "      <td>1967-01-12</td>\n",
              "      <td>6b849c168bdad6f867558c3793159a81</td>\n",
              "      <td>1325376076</td>\n",
              "      <td>47.034331</td>\n",
              "      <td>-112.561071</td>\n",
              "      <td>0</td>\n",
              "    </tr>\n",
              "    <tr>\n",
              "      <th>4</th>\n",
              "      <td>4</td>\n",
              "      <td>2019-01-01 00:03:06</td>\n",
              "      <td>375534208663984</td>\n",
              "      <td>fraud_Keeling-Crist</td>\n",
              "      <td>misc_pos</td>\n",
              "      <td>41.96</td>\n",
              "      <td>Tyler</td>\n",
              "      <td>Garcia</td>\n",
              "      <td>M</td>\n",
              "      <td>408 Bradley Rest</td>\n",
              "      <td>Doe Hill</td>\n",
              "      <td>VA</td>\n",
              "      <td>24433</td>\n",
              "      <td>38.4207</td>\n",
              "      <td>-79.4629</td>\n",
              "      <td>99</td>\n",
              "      <td>Dance movement psychotherapist</td>\n",
              "      <td>1986-03-28</td>\n",
              "      <td>a41d7549acf90789359a9aa5346dcb46</td>\n",
              "      <td>1325376186</td>\n",
              "      <td>38.674999</td>\n",
              "      <td>-78.632459</td>\n",
              "      <td>0</td>\n",
              "    </tr>\n",
              "  </tbody>\n",
              "</table>\n",
              "</div>"
            ],
            "text/plain": [
              "   Unnamed: 0 trans_date_trans_time  ...  merch_long is_fraud\n",
              "0           0   2019-01-01 00:00:18  ...  -82.048315        0\n",
              "1           1   2019-01-01 00:00:44  ... -118.186462        0\n",
              "2           2   2019-01-01 00:00:51  ... -112.154481        0\n",
              "3           3   2019-01-01 00:01:16  ... -112.561071        0\n",
              "4           4   2019-01-01 00:03:06  ...  -78.632459        0\n",
              "\n",
              "[5 rows x 23 columns]"
            ]
          },
          "metadata": {
            "tags": []
          },
          "execution_count": 4
        }
      ]
    },
    {
      "cell_type": "markdown",
      "metadata": {
        "id": "NKLJ3Vzg_6o-"
      },
      "source": [
        "Hasta el momento no hemos encontrado en el head valores nulos.\n",
        "\n",
        "En nuestro caso la columna is_fraud será nuestra salida, es decir nuestro valor \"Y\", el valor que queremos predecir"
      ]
    },
    {
      "cell_type": "code",
      "metadata": {
        "ExecuteTime": {
          "end_time": "2018-05-06T15:28:50.126775Z",
          "start_time": "2018-05-06T15:28:50.097200Z"
        },
        "id": "iVBC-g8s_6o-",
        "colab": {
          "base_uri": "https://localhost:8080/",
          "height": 314
        },
        "outputId": "de7b3bc4-226a-4e47-af47-c1da41e46ae2"
      },
      "source": [
        "# Ahora veamos algunas estadísticas de nuestros datos\n",
        "data.describe()"
      ],
      "execution_count": null,
      "outputs": [
        {
          "output_type": "execute_result",
          "data": {
            "text/html": [
              "<div>\n",
              "<style scoped>\n",
              "    .dataframe tbody tr th:only-of-type {\n",
              "        vertical-align: middle;\n",
              "    }\n",
              "\n",
              "    .dataframe tbody tr th {\n",
              "        vertical-align: top;\n",
              "    }\n",
              "\n",
              "    .dataframe thead th {\n",
              "        text-align: right;\n",
              "    }\n",
              "</style>\n",
              "<table border=\"1\" class=\"dataframe\">\n",
              "  <thead>\n",
              "    <tr style=\"text-align: right;\">\n",
              "      <th></th>\n",
              "      <th>Unnamed: 0</th>\n",
              "      <th>cc_num</th>\n",
              "      <th>amt</th>\n",
              "      <th>zip</th>\n",
              "      <th>lat</th>\n",
              "      <th>long</th>\n",
              "      <th>city_pop</th>\n",
              "      <th>unix_time</th>\n",
              "      <th>merch_lat</th>\n",
              "      <th>merch_long</th>\n",
              "      <th>is_fraud</th>\n",
              "    </tr>\n",
              "  </thead>\n",
              "  <tbody>\n",
              "    <tr>\n",
              "      <th>count</th>\n",
              "      <td>1.296675e+06</td>\n",
              "      <td>1.296675e+06</td>\n",
              "      <td>1.296675e+06</td>\n",
              "      <td>1.296675e+06</td>\n",
              "      <td>1.296675e+06</td>\n",
              "      <td>1.296675e+06</td>\n",
              "      <td>1.296675e+06</td>\n",
              "      <td>1.296675e+06</td>\n",
              "      <td>1.296675e+06</td>\n",
              "      <td>1.296675e+06</td>\n",
              "      <td>1.296675e+06</td>\n",
              "    </tr>\n",
              "    <tr>\n",
              "      <th>mean</th>\n",
              "      <td>6.483370e+05</td>\n",
              "      <td>4.171920e+17</td>\n",
              "      <td>7.035104e+01</td>\n",
              "      <td>4.880067e+04</td>\n",
              "      <td>3.853762e+01</td>\n",
              "      <td>-9.022634e+01</td>\n",
              "      <td>8.882444e+04</td>\n",
              "      <td>1.349244e+09</td>\n",
              "      <td>3.853734e+01</td>\n",
              "      <td>-9.022646e+01</td>\n",
              "      <td>5.788652e-03</td>\n",
              "    </tr>\n",
              "    <tr>\n",
              "      <th>std</th>\n",
              "      <td>3.743180e+05</td>\n",
              "      <td>1.308806e+18</td>\n",
              "      <td>1.603160e+02</td>\n",
              "      <td>2.689322e+04</td>\n",
              "      <td>5.075808e+00</td>\n",
              "      <td>1.375908e+01</td>\n",
              "      <td>3.019564e+05</td>\n",
              "      <td>1.284128e+07</td>\n",
              "      <td>5.109788e+00</td>\n",
              "      <td>1.377109e+01</td>\n",
              "      <td>7.586269e-02</td>\n",
              "    </tr>\n",
              "    <tr>\n",
              "      <th>min</th>\n",
              "      <td>0.000000e+00</td>\n",
              "      <td>6.041621e+10</td>\n",
              "      <td>1.000000e+00</td>\n",
              "      <td>1.257000e+03</td>\n",
              "      <td>2.002710e+01</td>\n",
              "      <td>-1.656723e+02</td>\n",
              "      <td>2.300000e+01</td>\n",
              "      <td>1.325376e+09</td>\n",
              "      <td>1.902779e+01</td>\n",
              "      <td>-1.666712e+02</td>\n",
              "      <td>0.000000e+00</td>\n",
              "    </tr>\n",
              "    <tr>\n",
              "      <th>25%</th>\n",
              "      <td>3.241685e+05</td>\n",
              "      <td>1.800429e+14</td>\n",
              "      <td>9.650000e+00</td>\n",
              "      <td>2.623700e+04</td>\n",
              "      <td>3.462050e+01</td>\n",
              "      <td>-9.679800e+01</td>\n",
              "      <td>7.430000e+02</td>\n",
              "      <td>1.338751e+09</td>\n",
              "      <td>3.473357e+01</td>\n",
              "      <td>-9.689728e+01</td>\n",
              "      <td>0.000000e+00</td>\n",
              "    </tr>\n",
              "    <tr>\n",
              "      <th>50%</th>\n",
              "      <td>6.483370e+05</td>\n",
              "      <td>3.521417e+15</td>\n",
              "      <td>4.752000e+01</td>\n",
              "      <td>4.817400e+04</td>\n",
              "      <td>3.935430e+01</td>\n",
              "      <td>-8.747690e+01</td>\n",
              "      <td>2.456000e+03</td>\n",
              "      <td>1.349250e+09</td>\n",
              "      <td>3.936568e+01</td>\n",
              "      <td>-8.743839e+01</td>\n",
              "      <td>0.000000e+00</td>\n",
              "    </tr>\n",
              "    <tr>\n",
              "      <th>75%</th>\n",
              "      <td>9.725055e+05</td>\n",
              "      <td>4.642255e+15</td>\n",
              "      <td>8.314000e+01</td>\n",
              "      <td>7.204200e+04</td>\n",
              "      <td>4.194040e+01</td>\n",
              "      <td>-8.015800e+01</td>\n",
              "      <td>2.032800e+04</td>\n",
              "      <td>1.359385e+09</td>\n",
              "      <td>4.195716e+01</td>\n",
              "      <td>-8.023680e+01</td>\n",
              "      <td>0.000000e+00</td>\n",
              "    </tr>\n",
              "    <tr>\n",
              "      <th>max</th>\n",
              "      <td>1.296674e+06</td>\n",
              "      <td>4.992346e+18</td>\n",
              "      <td>2.894890e+04</td>\n",
              "      <td>9.978300e+04</td>\n",
              "      <td>6.669330e+01</td>\n",
              "      <td>-6.795030e+01</td>\n",
              "      <td>2.906700e+06</td>\n",
              "      <td>1.371817e+09</td>\n",
              "      <td>6.751027e+01</td>\n",
              "      <td>-6.695090e+01</td>\n",
              "      <td>1.000000e+00</td>\n",
              "    </tr>\n",
              "  </tbody>\n",
              "</table>\n",
              "</div>"
            ],
            "text/plain": [
              "         Unnamed: 0        cc_num  ...    merch_long      is_fraud\n",
              "count  1.296675e+06  1.296675e+06  ...  1.296675e+06  1.296675e+06\n",
              "mean   6.483370e+05  4.171920e+17  ... -9.022646e+01  5.788652e-03\n",
              "std    3.743180e+05  1.308806e+18  ...  1.377109e+01  7.586269e-02\n",
              "min    0.000000e+00  6.041621e+10  ... -1.666712e+02  0.000000e+00\n",
              "25%    3.241685e+05  1.800429e+14  ... -9.689728e+01  0.000000e+00\n",
              "50%    6.483370e+05  3.521417e+15  ... -8.743839e+01  0.000000e+00\n",
              "75%    9.725055e+05  4.642255e+15  ... -8.023680e+01  0.000000e+00\n",
              "max    1.296674e+06  4.992346e+18  ... -6.695090e+01  1.000000e+00\n",
              "\n",
              "[8 rows x 11 columns]"
            ]
          },
          "metadata": {
            "tags": []
          },
          "execution_count": 5
        }
      ]
    },
    {
      "cell_type": "markdown",
      "metadata": {
        "ExecuteTime": {
          "end_time": "2018-05-05T08:36:49.122754Z",
          "start_time": "2018-05-05T08:36:49.108512Z"
        },
        "id": "YAttdkym_6pB"
      },
      "source": [
        "De aqui observamos que el monto máximo que ha tenido una transacción es de $28,948.90.\n",
        "\n",
        "Así mismo, el valor mínimo de las transacción fue de $1.00.\n",
        "\n",
        "Y en cuanto a las salidas, vemos que en promedio hay más transacciones verídicas que fraudes."
      ]
    },
    {
      "cell_type": "markdown",
      "metadata": {
        "id": "zY7VY8Os_6pB"
      },
      "source": [
        "## Visualización General"
      ]
    },
    {
      "cell_type": "code",
      "metadata": {
        "ExecuteTime": {
          "end_time": "2018-05-06T15:50:03.185268Z",
          "start_time": "2018-05-06T15:50:02.485816Z"
        },
        "id": "RCw-dzg4_6pC",
        "colab": {
          "base_uri": "https://localhost:8080/",
          "height": 295
        },
        "outputId": "cbb5bb47-b21f-4e5d-d904-548a3394dc44"
      },
      "source": [
        "# Visualizamos rápidamente las caraterísticas de entrada\n",
        "data.hist()\n",
        "plt.show()"
      ],
      "execution_count": null,
      "outputs": [
        {
          "output_type": "display_data",
          "data": {
            "image/png": "[encoded data removed]",
            "text/plain": [
              "<Figure size 432x288 with 12 Axes>"
            ]
          },
          "metadata": {
            "tags": [],
            "needs_background": "light"
          }
        }
      ]
    },
    {
      "cell_type": "markdown",
      "metadata": {
        "id": "4X2Mmlov_6pF"
      },
      "source": [
        "## Visualizamos Monto de la Transacción vs. Fraudes"
      ]
    },
    {
      "cell_type": "code",
      "metadata": {
        "ExecuteTime": {
          "end_time": "2018-05-06T15:28:50.505154Z",
          "start_time": "2018-05-06T15:28:50.130110Z"
        },
        "id": "sLT4kNuW_6pG",
        "colab": {
          "base_uri": "https://localhost:8080/",
          "height": 265
        },
        "outputId": "023a3c5c-fc7b-474f-9106-bce45f4b30d5"
      },
      "source": [
        "#vamos a Visualizar los datos de entrada\n",
        "colores=['orange','blue']\n",
        "tamanios=[30,60]\n",
        "\n",
        "f1 = data['amt'].values\n",
        "f2 = data['is_fraud'].values\n",
        "\n",
        "# Vamos a pintar en 2 colores los puntos por debajo de la media de Fraudes\n",
        "asignar=[]\n",
        "for index, row in data.iterrows():\n",
        "    if(row['is_fraud']==1):\n",
        "        asignar.append(colores[0])\n",
        "    else:\n",
        "        asignar.append(colores[1])\n",
        "    \n",
        "plt.scatter(f1, f2, c=asignar, s=tamanios[0])\n",
        "plt.show()"
      ],
      "execution_count": null,
      "outputs": [
        {
          "output_type": "display_data",
          "data": {
            "image/png": "[encoded data removed]",
            "text/plain": [
              "<Figure size 432x288 with 1 Axes>"
            ]
          },
          "metadata": {
            "tags": [],
            "needs_background": "light"
          }
        }
      ]
    },
    {
      "cell_type": "code",
      "metadata": {
        "ExecuteTime": {
          "end_time": "2018-05-06T15:28:50.963199Z",
          "start_time": "2018-05-06T15:28:50.509749Z"
        },
        "id": "gNKHURdF_6pI",
        "colab": {
          "base_uri": "https://localhost:8080/",
          "height": 265
        },
        "outputId": "2cf900eb-09f6-4f0f-baaa-8e06d44e5397"
      },
      "source": [
        "# Vamos a RECORTAR los datos en la zona donde se concentran más los puntos\n",
        "# esto es en el eje X: entre 0 y 20,000\n",
        "filtered_data = data[(data['amt'] <= 5000)]\n",
        "\n",
        "f1 = filtered_data['amt'].values\n",
        "f2 = filtered_data['is_fraud'].values\n",
        "\n",
        "# Vamos a pintar en colores los puntos por debajo y por encima de la media de Cantidad de Palabras\n",
        "asignar=[]\n",
        "for index, row in filtered_data.iterrows():\n",
        "    if(row['is_fraud']==1):\n",
        "        asignar.append(colores[0])\n",
        "    else:\n",
        "        asignar.append(colores[1])\n",
        "    \n",
        "plt.scatter(f1, f2, c=asignar, s=tamanios[0])\n",
        "plt.show()"
      ],
      "execution_count": null,
      "outputs": [
        {
          "output_type": "display_data",
          "data": {
            "image/png": "[encoded data removed]",
            "text/plain": [
              "<Figure size 432x288 with 1 Axes>"
            ]
          },
          "metadata": {
            "tags": [],
            "needs_background": "light"
          }
        }
      ]
    },
    {
      "cell_type": "code",
      "metadata": {
        "ExecuteTime": {
          "end_time": "2018-05-06T15:28:51.024042Z",
          "start_time": "2018-05-06T15:28:50.967169Z"
        },
        "id": "cATm0Xoq_6pK",
        "colab": {
          "base_uri": "https://localhost:8080/",
          "height": 314
        },
        "outputId": "eb9d4095-7ea1-46a5-e224-3dba5e9e02ed"
      },
      "source": [
        "# Veamos como cambian los valores una vez filtrados\n",
        "filtered_data.describe()"
      ],
      "execution_count": null,
      "outputs": [
        {
          "output_type": "execute_result",
          "data": {
            "text/html": [
              "<div>\n",
              "<style scoped>\n",
              "    .dataframe tbody tr th:only-of-type {\n",
              "        vertical-align: middle;\n",
              "    }\n",
              "\n",
              "    .dataframe tbody tr th {\n",
              "        vertical-align: top;\n",
              "    }\n",
              "\n",
              "    .dataframe thead th {\n",
              "        text-align: right;\n",
              "    }\n",
              "</style>\n",
              "<table border=\"1\" class=\"dataframe\">\n",
              "  <thead>\n",
              "    <tr style=\"text-align: right;\">\n",
              "      <th></th>\n",
              "      <th>Unnamed: 0</th>\n",
              "      <th>cc_num</th>\n",
              "      <th>amt</th>\n",
              "      <th>zip</th>\n",
              "      <th>lat</th>\n",
              "      <th>long</th>\n",
              "      <th>city_pop</th>\n",
              "      <th>unix_time</th>\n",
              "      <th>merch_lat</th>\n",
              "      <th>merch_long</th>\n",
              "      <th>is_fraud</th>\n",
              "    </tr>\n",
              "  </thead>\n",
              "  <tbody>\n",
              "    <tr>\n",
              "      <th>count</th>\n",
              "      <td>1.296539e+06</td>\n",
              "      <td>1.296539e+06</td>\n",
              "      <td>1.296539e+06</td>\n",
              "      <td>1.296539e+06</td>\n",
              "      <td>1.296539e+06</td>\n",
              "      <td>1.296539e+06</td>\n",
              "      <td>1.296539e+06</td>\n",
              "      <td>1.296539e+06</td>\n",
              "      <td>1.296539e+06</td>\n",
              "      <td>1.296539e+06</td>\n",
              "      <td>1.296539e+06</td>\n",
              "    </tr>\n",
              "    <tr>\n",
              "      <th>mean</th>\n",
              "      <td>6.483386e+05</td>\n",
              "      <td>4.171932e+17</td>\n",
              "      <td>6.942634e+01</td>\n",
              "      <td>4.880071e+04</td>\n",
              "      <td>3.853768e+01</td>\n",
              "      <td>-9.022646e+01</td>\n",
              "      <td>8.882268e+04</td>\n",
              "      <td>1.349244e+09</td>\n",
              "      <td>3.853740e+01</td>\n",
              "      <td>-9.022660e+01</td>\n",
              "      <td>5.789259e-03</td>\n",
              "    </tr>\n",
              "    <tr>\n",
              "      <th>std</th>\n",
              "      <td>3.743181e+05</td>\n",
              "      <td>1.308807e+18</td>\n",
              "      <td>1.239789e+02</td>\n",
              "      <td>2.689321e+04</td>\n",
              "      <td>5.075793e+00</td>\n",
              "      <td>1.375922e+01</td>\n",
              "      <td>3.019555e+05</td>\n",
              "      <td>1.284128e+07</td>\n",
              "      <td>5.109772e+00</td>\n",
              "      <td>1.377124e+01</td>\n",
              "      <td>7.586665e-02</td>\n",
              "    </tr>\n",
              "    <tr>\n",
              "      <th>min</th>\n",
              "      <td>0.000000e+00</td>\n",
              "      <td>6.041621e+10</td>\n",
              "      <td>1.000000e+00</td>\n",
              "      <td>1.257000e+03</td>\n",
              "      <td>2.002710e+01</td>\n",
              "      <td>-1.656723e+02</td>\n",
              "      <td>2.300000e+01</td>\n",
              "      <td>1.325376e+09</td>\n",
              "      <td>1.902779e+01</td>\n",
              "      <td>-1.666712e+02</td>\n",
              "      <td>0.000000e+00</td>\n",
              "    </tr>\n",
              "    <tr>\n",
              "      <th>25%</th>\n",
              "      <td>3.241705e+05</td>\n",
              "      <td>1.800429e+14</td>\n",
              "      <td>9.650000e+00</td>\n",
              "      <td>2.623700e+04</td>\n",
              "      <td>3.462050e+01</td>\n",
              "      <td>-9.679800e+01</td>\n",
              "      <td>7.430000e+02</td>\n",
              "      <td>1.338751e+09</td>\n",
              "      <td>3.473369e+01</td>\n",
              "      <td>-9.689748e+01</td>\n",
              "      <td>0.000000e+00</td>\n",
              "    </tr>\n",
              "    <tr>\n",
              "      <th>50%</th>\n",
              "      <td>6.483410e+05</td>\n",
              "      <td>3.521417e+15</td>\n",
              "      <td>4.751000e+01</td>\n",
              "      <td>4.817400e+04</td>\n",
              "      <td>3.935430e+01</td>\n",
              "      <td>-8.747690e+01</td>\n",
              "      <td>2.456000e+03</td>\n",
              "      <td>1.349250e+09</td>\n",
              "      <td>3.936569e+01</td>\n",
              "      <td>-8.743836e+01</td>\n",
              "      <td>0.000000e+00</td>\n",
              "    </tr>\n",
              "    <tr>\n",
              "      <th>75%</th>\n",
              "      <td>9.725075e+05</td>\n",
              "      <td>4.642255e+15</td>\n",
              "      <td>8.312000e+01</td>\n",
              "      <td>7.204200e+04</td>\n",
              "      <td>4.194040e+01</td>\n",
              "      <td>-8.015800e+01</td>\n",
              "      <td>2.032800e+04</td>\n",
              "      <td>1.359386e+09</td>\n",
              "      <td>4.195718e+01</td>\n",
              "      <td>-8.023691e+01</td>\n",
              "      <td>0.000000e+00</td>\n",
              "    </tr>\n",
              "    <tr>\n",
              "      <th>max</th>\n",
              "      <td>1.296674e+06</td>\n",
              "      <td>4.992346e+18</td>\n",
              "      <td>4.986550e+03</td>\n",
              "      <td>9.978300e+04</td>\n",
              "      <td>6.669330e+01</td>\n",
              "      <td>-6.795030e+01</td>\n",
              "      <td>2.906700e+06</td>\n",
              "      <td>1.371817e+09</td>\n",
              "      <td>6.751027e+01</td>\n",
              "      <td>-6.695090e+01</td>\n",
              "      <td>1.000000e+00</td>\n",
              "    </tr>\n",
              "  </tbody>\n",
              "</table>\n",
              "</div>"
            ],
            "text/plain": [
              "         Unnamed: 0        cc_num  ...    merch_long      is_fraud\n",
              "count  1.296539e+06  1.296539e+06  ...  1.296539e+06  1.296539e+06\n",
              "mean   6.483386e+05  4.171932e+17  ... -9.022660e+01  5.789259e-03\n",
              "std    3.743181e+05  1.308807e+18  ...  1.377124e+01  7.586665e-02\n",
              "min    0.000000e+00  6.041621e+10  ... -1.666712e+02  0.000000e+00\n",
              "25%    3.241705e+05  1.800429e+14  ... -9.689748e+01  0.000000e+00\n",
              "50%    6.483410e+05  3.521417e+15  ... -8.743836e+01  0.000000e+00\n",
              "75%    9.725075e+05  4.642255e+15  ... -8.023691e+01  0.000000e+00\n",
              "max    1.296674e+06  4.992346e+18  ... -6.695090e+01  1.000000e+00\n",
              "\n",
              "[8 rows x 11 columns]"
            ]
          },
          "metadata": {
            "tags": []
          },
          "execution_count": 15
        }
      ]
    },
    {
      "cell_type": "markdown",
      "metadata": {
        "id": "yAl_oJGb_6pN"
      },
      "source": [
        "## Regresión Lineal Simple (1 variable)"
      ]
    },
    {
      "cell_type": "markdown",
      "metadata": {
        "id": "na6kmYjS_6pO"
      },
      "source": [
        "Vamos a intentar primero una Regresión Lineal con 1 sóla variable"
      ]
    },
    {
      "cell_type": "code",
      "metadata": {
        "ExecuteTime": {
          "end_time": "2018-05-06T15:28:51.036535Z",
          "start_time": "2018-05-06T15:28:51.027426Z"
        },
        "id": "xUUeV-_M_6pQ"
      },
      "source": [
        "# Asignamos nuestra variable de entrada X para entrenamiento y las etiquetas Y.\n",
        "dataX =filtered_data[[\"amt\"]]\n",
        "X_train = np.array(dataX)\n",
        "y_train = filtered_data['is_fraud'].values"
      ],
      "execution_count": null,
      "outputs": []
    },
    {
      "cell_type": "code",
      "metadata": {
        "ExecuteTime": {
          "end_time": "2018-05-06T15:28:51.054663Z",
          "start_time": "2018-05-06T15:28:51.042421Z"
        },
        "scrolled": true,
        "id": "ej0cEnpK_6pX",
        "colab": {
          "base_uri": "https://localhost:8080/",
          "height": 121
        },
        "outputId": "3fcb3598-8830-47da-a52b-6355361fa290"
      },
      "source": [
        "# Creamos el objeto de Regresión Linear\n",
        "regr = linear_model.LinearRegression()\n",
        "\n",
        "# Entrenamos nuestro modelo\n",
        "regr.fit(X_train, y_train)\n",
        "\n",
        "# Hacemos las predicciones que en definitiva generan una línea (en este caso, al ser 2D)\n",
        "y_pred = regr.predict(X_train)\n",
        "\n",
        "# Veamos los coeficienetes obtenidos, En nuestro caso, serán la Tangente\n",
        "print('Coefficients: \\n', regr.coef_)\n",
        "# Este es el valor donde corta el eje Y (en X=0)\n",
        "print('Independent term: \\n', regr.intercept_)\n",
        "# Error Cuadrado Medio\n",
        "print(\"Mean squared error: %.2f\" % mean_squared_error(y_train, y_pred))\n",
        "# Puntaje de Varianza. El mejor puntaje es un 1.0\n",
        "print('Variance score: %.2f' % r2_score(y_train, y_pred))"
      ],
      "execution_count": null,
      "outputs": [
        {
          "output_type": "stream",
          "text": [
            "Coefficients: \n",
            " [0.00017397]\n",
            "Independent term: \n",
            " -0.006288719712278271\n",
            "Mean squared error: 0.01\n",
            "Variance score: 0.08\n"
          ],
          "name": "stdout"
        }
      ]
    },
    {
      "cell_type": "markdown",
      "metadata": {
        "id": "-ByRTDnB_6pa"
      },
      "source": [
        "## Visualizamos la Recta que obtuvimos"
      ]
    },
    {
      "cell_type": "code",
      "metadata": {
        "ExecuteTime": {
          "end_time": "2018-05-06T15:28:51.432242Z",
          "start_time": "2018-05-06T15:28:51.060915Z"
        },
        "id": "g_Dr24Ub_6pa",
        "colab": {
          "base_uri": "https://localhost:8080/",
          "height": 300
        },
        "outputId": "e23bf159-834d-46b5-dbc4-989d0f58b613"
      },
      "source": [
        "plt.scatter(X_train[:,0], y_train,  c=asignar, s=tamanios[0])\n",
        "plt.plot(X_train[:,0], y_pred, color='red', linewidth=3)\n",
        "\n",
        "plt.xlabel('Monto de la Transacción')\n",
        "plt.ylabel('¿Es fraude?')\n",
        "plt.title('Regresión Lineal')\n",
        "\n",
        "plt.show()"
      ],
      "execution_count": null,
      "outputs": [
        {
          "output_type": "display_data",
          "data": {
            "image/png": "[encoded data removed]",
            "text/plain": [
              "<Figure size 432x288 with 1 Axes>"
            ]
          },
          "metadata": {
            "tags": [],
            "needs_background": "light"
          }
        }
      ]
    },
    {
      "cell_type": "markdown",
      "metadata": {
        "id": "5aSXmTdh_6pc"
      },
      "source": [
        "### Predicción 1"
      ]
    },
    {
      "cell_type": "code",
      "metadata": {
        "ExecuteTime": {
          "end_time": "2018-05-06T15:28:51.440993Z",
          "start_time": "2018-05-06T15:28:51.435404Z"
        },
        "id": "31gay5bb_6pd",
        "colab": {
          "base_uri": "https://localhost:8080/",
          "height": 35
        },
        "outputId": "697f9fe3-9a25-4531-cae2-697a5bae2db5"
      },
      "source": [
        "#Vamos a comprobar:\n",
        "# Quiero predecir cuántos si es fraudulenta una transacción por un monto de $1000.00,\n",
        "# según nuestro modelo, hacemos:\n",
        "y_diez = regr.predict([[1000]])\n",
        "print(int(y_diez))"
      ],
      "execution_count": null,
      "outputs": [
        {
          "output_type": "stream",
          "text": [
            "0\n"
          ],
          "name": "stdout"
        }
      ]
    },
    {
      "cell_type": "markdown",
      "metadata": {
        "id": "-risxoKPLZbj"
      },
      "source": [
        "Como se puede ver, el modelo no \"entendió\" bien cómo detectar un fraude pero creo que este resultado es muy bueno para analizarlo en el reporte de Word. :)"
      ]
    }
  ]
}